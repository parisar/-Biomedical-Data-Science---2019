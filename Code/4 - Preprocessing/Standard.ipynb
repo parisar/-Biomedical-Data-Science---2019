{
 "cells": [
  {
   "cell_type": "markdown",
   "metadata": {},
   "source": [
    "# Standardization "
   ]
  },
  {
   "cell_type": "markdown",
   "metadata": {},
   "source": [
    "### Import necessary packages "
   ]
  },
  {
   "cell_type": "code",
   "execution_count": 2,
   "metadata": {
    "collapsed": true
   },
   "outputs": [],
   "source": [
    "# Standardize each attribute to have a mean of 0 and a standard deviation of 1\n",
    "from sklearn import datasets\n",
    "from sklearn import preprocessing\n",
    "from sklearn.cross_validation import train_test_split"
   ]
  },
  {
   "cell_type": "markdown",
   "metadata": {},
   "source": [
    "### Load the breast cancer dataset "
   ]
  },
  {
   "cell_type": "code",
   "execution_count": 3,
   "metadata": {
    "collapsed": false
   },
   "outputs": [
    {
     "name": "stdout",
     "output_type": "stream",
     "text": [
      "(569, 30)\n"
     ]
    }
   ],
   "source": [
    "# load the iris dataset\n",
    "dataset = datasets.load_breast_cancer()\n",
    "print(dataset.data.shape)"
   ]
  },
  {
   "cell_type": "code",
   "execution_count": 4,
   "metadata": {
    "collapsed": true
   },
   "outputs": [],
   "source": [
    "# separate the data from the target features\n",
    "X = dataset.data\n",
    "y = dataset.target"
   ]
  },
  {
   "cell_type": "code",
   "execution_count": 5,
   "metadata": {
    "collapsed": true
   },
   "outputs": [],
   "source": [
    "# Separate test from train (hold-out method)\n",
    "X_train, X_test, y_train, y_test = train_test_split(\n",
    "         X, y, test_size=0.3, random_state=0)"
   ]
  },
  {
   "cell_type": "code",
   "execution_count": 20,
   "metadata": {
    "collapsed": false
   },
   "outputs": [
    {
     "name": "stdout",
     "output_type": "stream",
     "text": [
      "Train set size (398, 30)\n",
      "Test set size (171, 30)\n"
     ]
    }
   ],
   "source": [
    "#X_train.shape\n",
    "print('Train set size %s' % (X_train.shape,))\n",
    "print('Test set size %s' % (X_test.shape,))"
   ]
  },
  {
   "cell_type": "markdown",
   "metadata": {},
   "source": [
    "### Standardize "
   ]
  },
  {
   "cell_type": "code",
   "execution_count": 26,
   "metadata": {
    "collapsed": false
   },
   "outputs": [],
   "source": [
    "# standardize the data features by estimating the mean and std from training data\n",
    "sc = preprocessing.StandardScaler()\n",
    "sc.fit(X_train)\n",
    "X_train_transformed = sc.transform(X_train)\n",
    "X_test_transformed = sc.transform(X_test)"
   ]
  },
  {
   "cell_type": "code",
   "execution_count": 27,
   "metadata": {
    "collapsed": false
   },
   "outputs": [
    {
     "data": {
      "text/plain": [
       "array([[-0.74998027, -1.09978744, -0.74158608, ..., -0.6235968 ,\n",
       "         0.07754241,  0.45062841],\n",
       "       [-1.02821446, -0.1392617 , -1.02980434, ..., -0.7612376 ,\n",
       "        -1.07145262, -0.29541379],\n",
       "       [-0.53852228, -0.29934933, -0.56857428, ..., -0.50470441,\n",
       "         0.34900827, -0.13371556],\n",
       "       ..., \n",
       "       [-1.3214733 , -0.20855336, -1.3143845 , ..., -0.98621857,\n",
       "        -0.69108476, -0.13148524],\n",
       "       [-1.24245479, -0.23244704, -1.27759928, ..., -1.7562754 ,\n",
       "        -1.55125275, -1.01078909],\n",
       "       [-0.74441558,  1.13188181, -0.72016173, ..., -0.28490593,\n",
       "        -1.2308599 ,  0.20083251]])"
      ]
     },
     "execution_count": 27,
     "metadata": {},
     "output_type": "execute_result"
    }
   ],
   "source": [
    "X_train_transformed"
   ]
  },
  {
   "cell_type": "code",
   "execution_count": null,
   "metadata": {
    "collapsed": true
   },
   "outputs": [],
   "source": []
  }
 ],
 "metadata": {
  "anaconda-cloud": {},
  "kernelspec": {
   "display_name": "Python [conda root]",
   "language": "python",
   "name": "conda-root-py"
  },
  "language_info": {
   "codemirror_mode": {
    "name": "ipython",
    "version": 3
   },
   "file_extension": ".py",
   "mimetype": "text/x-python",
   "name": "python",
   "nbconvert_exporter": "python",
   "pygments_lexer": "ipython3",
   "version": "3.5.2"
  }
 },
 "nbformat": 4,
 "nbformat_minor": 0
}
