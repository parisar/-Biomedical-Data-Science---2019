{
 "cells": [
  {
   "cell_type": "markdown",
   "metadata": {},
   "source": [
    "# Data Normalization "
   ]
  },
  {
   "cell_type": "markdown",
   "metadata": {},
   "source": [
    "### Import necessay packages "
   ]
  },
  {
   "cell_type": "code",
   "execution_count": 1,
   "metadata": {
    "collapsed": true
   },
   "outputs": [],
   "source": [
    "# Normalize the data attributes into the range 0 and 1.\n",
    "from sklearn import datasets\n",
    "from sklearn import preprocessing"
   ]
  },
  {
   "cell_type": "markdown",
   "metadata": {},
   "source": [
    "### Load a dataset "
   ]
  },
  {
   "cell_type": "code",
   "execution_count": 2,
   "metadata": {
    "collapsed": false
   },
   "outputs": [
    {
     "name": "stdout",
     "output_type": "stream",
     "text": [
      "(569, 30)\n"
     ]
    }
   ],
   "source": [
    "# load the iris dataset\n",
    "dataset = datasets.load_breast_cancer()\n",
    "print(dataset.data.shape)"
   ]
  },
  {
   "cell_type": "code",
   "execution_count": 3,
   "metadata": {
    "collapsed": true
   },
   "outputs": [],
   "source": [
    "# separate the data from the target attributes\n",
    "X = dataset.data\n",
    "y = dataset.target"
   ]
  },
  {
   "cell_type": "markdown",
   "metadata": {},
   "source": [
    "### Normalize "
   ]
  },
  {
   "cell_type": "code",
   "execution_count": 4,
   "metadata": {
    "collapsed": true
   },
   "outputs": [],
   "source": [
    "# normalize the data attributes\n",
    "normalized_X = preprocessing.normalize(X)"
   ]
  },
  {
   "cell_type": "code",
   "execution_count": 5,
   "metadata": {
    "collapsed": false
   },
   "outputs": [
    {
     "data": {
      "text/plain": [
       "array([[  7.92541486e-03,   4.57286305e-03,   5.40989964e-02, ...,\n",
       "          1.16920795e-04,   2.02695018e-04,   5.23808686e-05],\n",
       "       [  8.66575595e-03,   7.48616836e-03,   5.59882822e-02, ...,\n",
       "          7.83583182e-05,   1.15852352e-04,   3.75024596e-05],\n",
       "       [  9.36668268e-03,   1.01087865e-02,   6.18419883e-02, ...,\n",
       "          1.15596947e-04,   1.71873157e-04,   4.16624718e-05],\n",
       "       ..., \n",
       "       [  1.16438847e-02,   1.96964025e-02,   7.59658259e-02, ...,\n",
       "          9.94640269e-05,   1.55579134e-04,   5.48525170e-05],\n",
       "       [  9.23020523e-03,   1.31418408e-02,   6.27743569e-02, ...,\n",
       "          1.18738077e-04,   1.83125480e-04,   5.55604587e-05],\n",
       "       [  2.31098880e-02,   7.30820427e-02,   1.42709515e-01, ...,\n",
       "          0.00000000e+00,   8.55006294e-04,   2.09626935e-04]])"
      ]
     },
     "execution_count": 5,
     "metadata": {},
     "output_type": "execute_result"
    }
   ],
   "source": [
    "normalized_X"
   ]
  },
  {
   "cell_type": "code",
   "execution_count": null,
   "metadata": {
    "collapsed": true
   },
   "outputs": [],
   "source": []
  }
 ],
 "metadata": {
  "kernelspec": {
   "display_name": "Python 2",
   "language": "python",
   "name": "python2"
  },
  "language_info": {
   "codemirror_mode": {
    "name": "ipython",
    "version": 2
   },
   "file_extension": ".py",
   "mimetype": "text/x-python",
   "name": "python",
   "nbconvert_exporter": "python",
   "pygments_lexer": "ipython2",
   "version": "2.7.11"
  }
 },
 "nbformat": 4,
 "nbformat_minor": 0
}
