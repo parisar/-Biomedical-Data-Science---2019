{
 "cells": [
  {
   "cell_type": "markdown",
   "metadata": {},
   "source": [
    "## Domain:\n",
    "* Multivariate time series\n",
    "\n",
    "## Data source:\n",
    "* MIMIC-III ICU encounters (n = 59,248)\n",
    "* https://mimic.physionet.org/\n",
    "\n",
    "## Variables (8):\n",
    "* Heart rate\n",
    "* Systolic BP\n",
    "* Diastolic BP\n",
    "* Mean arterial pressure\n",
    "* Respiratory rate\n",
    "* Temperature (C)\n",
    "* SpO2\n",
    "* Glucose\n",
    "\n",
    "## Prediction task:\n",
    "* Given first 24 hours of ICU data, predict eventual in-hospital mortality (Death = 1, Survival = 0)\n",
    "* Binary classification\n",
    "\n",
    "## Model:\n",
    "* Recurrent neural network (RNN) with long short-term memory (LSTM)"
   ]
  },
  {
   "cell_type": "code",
   "execution_count": 1,
   "metadata": {},
   "outputs": [
    {
     "name": "stderr",
     "output_type": "stream",
     "text": [
      "Using TensorFlow backend.\n"
     ]
    }
   ],
   "source": [
    "import pandas as pd\n",
    "import numpy as np\n",
    "from sqlalchemy import create_engine\n",
    "engine = create_engine('postgresql:///mimic')\n",
    "\n",
    "from sklearn.preprocessing import StandardScaler\n",
    "from sklearn.model_selection import train_test_split\n",
    "from sklearn.metrics import classification_report, accuracy_score, roc_auc_score\n",
    "from sklearn.utils.class_weight import compute_class_weight\n",
    "\n",
    "from keras.models import Model, Sequential\n",
    "from keras.layers import Input, Dense, LSTM, GRU, CuDNNLSTM, CuDNNGRU, Masking, Dropout\n",
    "from keras.callbacks import Callback, EarlyStopping, ModelCheckpoint\n",
    "from keras.regularizers import l2\n",
    "from keras.preprocessing.sequence import pad_sequences\n",
    "\n",
    "import matplotlib.pyplot as plt\n",
    "%matplotlib inline"
   ]
  },
  {
   "cell_type": "markdown",
   "metadata": {},
   "source": [
    "## 1. Extract raw data from MIMIC-III database"
   ]
  },
  {
   "cell_type": "code",
   "execution_count": 2,
   "metadata": {
    "code_folding": [],
    "scrolled": false
   },
   "outputs": [
    {
     "name": "stdout",
     "output_type": "stream",
     "text": [
      "CPU times: user 25.8 s, sys: 4.64 s, total: 30.5 s\n",
      "Wall time: 3min 33s\n"
     ]
    }
   ],
   "source": [
    "%%time\n",
    "\n",
    "df = pd.read_sql_query(\"\"\"\n",
    "SELECT\n",
    "    icustay_id,\n",
    "    time,\n",
    "    (case when VitalID = 1 then valuenum else null end) as heart_rate,\n",
    "    (case when VitalID = 2 then valuenum else null end) as sys_bp,\n",
    "    (case when VitalID = 3 then valuenum else null end) as dia_bp,\n",
    "    (case when VitalID = 4 then valuenum else null end) as mean_bp,\n",
    "    (case when VitalID = 5 then valuenum else null end) as resp_rate,\n",
    "    (case when VitalID = 6 then valuenum else null end) as temp,\n",
    "    (case when VitalID = 7 then valuenum else null end) as spo2,\n",
    "    (case when VitalID = 8 then valuenum else null end) as glucose\n",
    "\n",
    "FROM\n",
    "    (\n",
    "        SELECT\n",
    "            ce.icustay_id,\n",
    "            ce.charttime as time,\n",
    "            (case\n",
    "                when itemid in (211,220045) and valuenum > 0 and valuenum < 300 then 1\n",
    "                when itemid in (51,442,455,6701,220179,220050) and valuenum > 0 and valuenum < 400 then 2\n",
    "                when itemid in (8368,8440,8441,8555,220180,220051) and valuenum > 0 and valuenum < 300 then 3\n",
    "                when itemid in (456,52,6702,443,220052,220181,225312) and valuenum > 0 and valuenum < 300 then 4\n",
    "                when itemid in (615,618,220210,224690) and valuenum > 0 and valuenum < 70 then 5\n",
    "                when itemid in (223761,678) and valuenum > 70 and valuenum < 120  then 6\n",
    "                when itemid in (223762,676) and valuenum > 10 and valuenum < 50  then 6\n",
    "                when itemid in (646,220277) and valuenum > 0 and valuenum <= 100 then 7\n",
    "                when itemid in (807,811,1529,3745,3744,225664,220621,226537) and valuenum > 0 then 8\n",
    "            else null end) as VitalID,\n",
    "            case when itemid in (223761,678) then (valuenum-32)/1.8 else valuenum end as valuenum\n",
    "\n",
    "        FROM\n",
    "            icustays ie\n",
    "            left join chartevents ce\n",
    "            on ie.icustay_id = ce.icustay_id\n",
    "            and ce.charttime >= ie.intime\n",
    "            and ce.charttime < ie.intime + interval '1' day\n",
    "            and ce.error IS DISTINCT FROM 1\n",
    "        WHERE\n",
    "            ce.itemid in (\n",
    "                211, --\"Heart Rate\"\n",
    "                220045, --\"Heart Rate\"\n",
    "                51, -- Arterial BP [Systolic]\n",
    "                442, -- Manual BP [Systolic]\n",
    "                455, -- NBP [Systolic]\n",
    "                6701, -- Arterial BP #2 [Systolic]\n",
    "                220179, -- Non Invasive Blood Pressure systolic\n",
    "                220050, -- Arterial Blood Pressure systolic\n",
    "                8368, -- Arterial BP [Diastolic]\n",
    "                8440, -- Manual BP [Diastolic]\n",
    "                8441, -- NBP [Diastolic]\n",
    "                8555, -- Arterial BP #2 [Diastolic]\n",
    "                220180, -- Non Invasive Blood Pressure diastolic\n",
    "                220051, -- Arterial Blood Pressure diastolic\n",
    "                456, -- \"NBP Mean\"\n",
    "                52, -- \"Arterial BP Mean\"\n",
    "                6702, -- Arterial BP Mean #2\n",
    "                443, -- Manual BP Mean(calc)\n",
    "                220052, -- \"Arterial Blood Pressure mean\"\n",
    "                220181, -- \"Non Invasive Blood Pressure mean\"\n",
    "                225312, -- \"ART BP mean\"\n",
    "                618, -- Respiratory Rate\n",
    "                615, -- Resp Rate (Total)\n",
    "                220210, -- Respiratory Rate\n",
    "                224690, -- Respiratory Rate (Total)\n",
    "                646, 220277, -- SpO2\n",
    "                807, -- Fingerstick Glucose\n",
    "                811, -- Glucose (70-105)\n",
    "                1529, -- Glucose\n",
    "                3745, -- BloodGlucose\n",
    "                3744, -- Blood Glucose\n",
    "                225664, -- Glucose finger stick\n",
    "                220621, -- Glucose (serum)\n",
    "                226537, -- Glucose (whole blood)\n",
    "                223762, -- \"Temperature Celsius\"\n",
    "                676, -- \"Temperature C\"\n",
    "                223761, -- \"Temperature Fahrenheit\"\n",
    "                678 -- \"Temperature F\"\n",
    "            )\n",
    "  ) p\n",
    "\n",
    "ORDER BY icustay_id, time\n",
    "\"\"\", con=engine)"
   ]
  },
  {
   "cell_type": "code",
   "execution_count": 3,
   "metadata": {},
   "outputs": [
    {
     "name": "stdout",
     "output_type": "stream",
     "text": [
      "# rows = 10553011\n"
     ]
    },
    {
     "data": {
      "text/html": [
       "<div>\n",
       "<style scoped>\n",
       "    .dataframe tbody tr th:only-of-type {\n",
       "        vertical-align: middle;\n",
       "    }\n",
       "\n",
       "    .dataframe tbody tr th {\n",
       "        vertical-align: top;\n",
       "    }\n",
       "\n",
       "    .dataframe thead th {\n",
       "        text-align: right;\n",
       "    }\n",
       "</style>\n",
       "<table border=\"1\" class=\"dataframe\">\n",
       "  <thead>\n",
       "    <tr style=\"text-align: right;\">\n",
       "      <th></th>\n",
       "      <th>icustay_id</th>\n",
       "      <th>time</th>\n",
       "      <th>heart_rate</th>\n",
       "      <th>sys_bp</th>\n",
       "      <th>dia_bp</th>\n",
       "      <th>mean_bp</th>\n",
       "      <th>resp_rate</th>\n",
       "      <th>temp</th>\n",
       "      <th>spo2</th>\n",
       "      <th>glucose</th>\n",
       "    </tr>\n",
       "  </thead>\n",
       "  <tbody>\n",
       "    <tr>\n",
       "      <th>0</th>\n",
       "      <td>200001</td>\n",
       "      <td>2181-11-25 19:07:00</td>\n",
       "      <td>NaN</td>\n",
       "      <td>NaN</td>\n",
       "      <td>NaN</td>\n",
       "      <td>NaN</td>\n",
       "      <td>22.0</td>\n",
       "      <td>NaN</td>\n",
       "      <td>NaN</td>\n",
       "      <td>NaN</td>\n",
       "    </tr>\n",
       "    <tr>\n",
       "      <th>1</th>\n",
       "      <td>200001</td>\n",
       "      <td>2181-11-25 19:08:00</td>\n",
       "      <td>NaN</td>\n",
       "      <td>113.0</td>\n",
       "      <td>NaN</td>\n",
       "      <td>NaN</td>\n",
       "      <td>NaN</td>\n",
       "      <td>NaN</td>\n",
       "      <td>NaN</td>\n",
       "      <td>NaN</td>\n",
       "    </tr>\n",
       "    <tr>\n",
       "      <th>2</th>\n",
       "      <td>200001</td>\n",
       "      <td>2181-11-25 19:08:00</td>\n",
       "      <td>NaN</td>\n",
       "      <td>NaN</td>\n",
       "      <td>65.0</td>\n",
       "      <td>NaN</td>\n",
       "      <td>NaN</td>\n",
       "      <td>NaN</td>\n",
       "      <td>NaN</td>\n",
       "      <td>NaN</td>\n",
       "    </tr>\n",
       "    <tr>\n",
       "      <th>3</th>\n",
       "      <td>200001</td>\n",
       "      <td>2181-11-25 19:08:00</td>\n",
       "      <td>NaN</td>\n",
       "      <td>NaN</td>\n",
       "      <td>NaN</td>\n",
       "      <td>77.0</td>\n",
       "      <td>NaN</td>\n",
       "      <td>NaN</td>\n",
       "      <td>NaN</td>\n",
       "      <td>NaN</td>\n",
       "    </tr>\n",
       "    <tr>\n",
       "      <th>4</th>\n",
       "      <td>200001</td>\n",
       "      <td>2181-11-25 19:14:00</td>\n",
       "      <td>NaN</td>\n",
       "      <td>NaN</td>\n",
       "      <td>NaN</td>\n",
       "      <td>NaN</td>\n",
       "      <td>NaN</td>\n",
       "      <td>NaN</td>\n",
       "      <td>94.0</td>\n",
       "      <td>NaN</td>\n",
       "    </tr>\n",
       "  </tbody>\n",
       "</table>\n",
       "</div>"
      ],
      "text/plain": [
       "   icustay_id                time  heart_rate  sys_bp  dia_bp  mean_bp  \\\n",
       "0      200001 2181-11-25 19:07:00         NaN     NaN     NaN      NaN   \n",
       "1      200001 2181-11-25 19:08:00         NaN   113.0     NaN      NaN   \n",
       "2      200001 2181-11-25 19:08:00         NaN     NaN    65.0      NaN   \n",
       "3      200001 2181-11-25 19:08:00         NaN     NaN     NaN     77.0   \n",
       "4      200001 2181-11-25 19:14:00         NaN     NaN     NaN      NaN   \n",
       "\n",
       "   resp_rate  temp  spo2  glucose  \n",
       "0       22.0   NaN   NaN      NaN  \n",
       "1        NaN   NaN   NaN      NaN  \n",
       "2        NaN   NaN   NaN      NaN  \n",
       "3        NaN   NaN   NaN      NaN  \n",
       "4        NaN   NaN  94.0      NaN  "
      ]
     },
     "execution_count": 3,
     "metadata": {},
     "output_type": "execute_result"
    }
   ],
   "source": [
    "print('# rows = %d' % len(df))\n",
    "df[:5]"
   ]
  },
  {
   "cell_type": "markdown",
   "metadata": {},
   "source": [
    "## 2. Resample to 1-hour frequency"
   ]
  },
  {
   "cell_type": "markdown",
   "metadata": {},
   "source": [
    "#### For each ICU stay, convert absolute time of each measurement to elapsed time from ICU admission"
   ]
  },
  {
   "cell_type": "code",
   "execution_count": 4,
   "metadata": {},
   "outputs": [
    {
     "name": "stdout",
     "output_type": "stream",
     "text": [
      "CPU times: user 30.1 s, sys: 188 ms, total: 30.3 s\n",
      "Wall time: 29.7 s\n"
     ]
    }
   ],
   "source": [
    "%%time\n",
    "df['time'] = df.groupby('icustay_id')['time'].apply(lambda time: time - time.iloc[0])"
   ]
  },
  {
   "cell_type": "code",
   "execution_count": 5,
   "metadata": {},
   "outputs": [
    {
     "data": {
      "text/html": [
       "<div>\n",
       "<style scoped>\n",
       "    .dataframe tbody tr th:only-of-type {\n",
       "        vertical-align: middle;\n",
       "    }\n",
       "\n",
       "    .dataframe tbody tr th {\n",
       "        vertical-align: top;\n",
       "    }\n",
       "\n",
       "    .dataframe thead th {\n",
       "        text-align: right;\n",
       "    }\n",
       "</style>\n",
       "<table border=\"1\" class=\"dataframe\">\n",
       "  <thead>\n",
       "    <tr style=\"text-align: right;\">\n",
       "      <th></th>\n",
       "      <th>icustay_id</th>\n",
       "      <th>time</th>\n",
       "      <th>heart_rate</th>\n",
       "      <th>sys_bp</th>\n",
       "      <th>dia_bp</th>\n",
       "      <th>mean_bp</th>\n",
       "      <th>resp_rate</th>\n",
       "      <th>temp</th>\n",
       "      <th>spo2</th>\n",
       "      <th>glucose</th>\n",
       "    </tr>\n",
       "  </thead>\n",
       "  <tbody>\n",
       "    <tr>\n",
       "      <th>0</th>\n",
       "      <td>200001</td>\n",
       "      <td>00:00:00</td>\n",
       "      <td>NaN</td>\n",
       "      <td>NaN</td>\n",
       "      <td>NaN</td>\n",
       "      <td>NaN</td>\n",
       "      <td>22.0</td>\n",
       "      <td>NaN</td>\n",
       "      <td>NaN</td>\n",
       "      <td>NaN</td>\n",
       "    </tr>\n",
       "    <tr>\n",
       "      <th>1</th>\n",
       "      <td>200001</td>\n",
       "      <td>00:01:00</td>\n",
       "      <td>NaN</td>\n",
       "      <td>113.0</td>\n",
       "      <td>NaN</td>\n",
       "      <td>NaN</td>\n",
       "      <td>NaN</td>\n",
       "      <td>NaN</td>\n",
       "      <td>NaN</td>\n",
       "      <td>NaN</td>\n",
       "    </tr>\n",
       "    <tr>\n",
       "      <th>2</th>\n",
       "      <td>200001</td>\n",
       "      <td>00:01:00</td>\n",
       "      <td>NaN</td>\n",
       "      <td>NaN</td>\n",
       "      <td>65.0</td>\n",
       "      <td>NaN</td>\n",
       "      <td>NaN</td>\n",
       "      <td>NaN</td>\n",
       "      <td>NaN</td>\n",
       "      <td>NaN</td>\n",
       "    </tr>\n",
       "    <tr>\n",
       "      <th>3</th>\n",
       "      <td>200001</td>\n",
       "      <td>00:01:00</td>\n",
       "      <td>NaN</td>\n",
       "      <td>NaN</td>\n",
       "      <td>NaN</td>\n",
       "      <td>77.0</td>\n",
       "      <td>NaN</td>\n",
       "      <td>NaN</td>\n",
       "      <td>NaN</td>\n",
       "      <td>NaN</td>\n",
       "    </tr>\n",
       "    <tr>\n",
       "      <th>4</th>\n",
       "      <td>200001</td>\n",
       "      <td>00:07:00</td>\n",
       "      <td>NaN</td>\n",
       "      <td>NaN</td>\n",
       "      <td>NaN</td>\n",
       "      <td>NaN</td>\n",
       "      <td>NaN</td>\n",
       "      <td>NaN</td>\n",
       "      <td>94.0</td>\n",
       "      <td>NaN</td>\n",
       "    </tr>\n",
       "  </tbody>\n",
       "</table>\n",
       "</div>"
      ],
      "text/plain": [
       "   icustay_id     time  heart_rate  sys_bp  dia_bp  mean_bp  resp_rate  temp  \\\n",
       "0      200001 00:00:00         NaN     NaN     NaN      NaN       22.0   NaN   \n",
       "1      200001 00:01:00         NaN   113.0     NaN      NaN        NaN   NaN   \n",
       "2      200001 00:01:00         NaN     NaN    65.0      NaN        NaN   NaN   \n",
       "3      200001 00:01:00         NaN     NaN     NaN     77.0        NaN   NaN   \n",
       "4      200001 00:07:00         NaN     NaN     NaN      NaN        NaN   NaN   \n",
       "\n",
       "   spo2  glucose  \n",
       "0   NaN      NaN  \n",
       "1   NaN      NaN  \n",
       "2   NaN      NaN  \n",
       "3   NaN      NaN  \n",
       "4  94.0      NaN  "
      ]
     },
     "execution_count": 5,
     "metadata": {},
     "output_type": "execute_result"
    }
   ],
   "source": [
    "df[:5]"
   ]
  },
  {
   "cell_type": "markdown",
   "metadata": {},
   "source": [
    "#### For each ICU stay, calculate mean measurement values for each hour after ICU admission (0 < hours < 24)"
   ]
  },
  {
   "cell_type": "code",
   "execution_count": 6,
   "metadata": {},
   "outputs": [
    {
     "name": "stdout",
     "output_type": "stream",
     "text": [
      "CPU times: user 2.14 s, sys: 40 ms, total: 2.18 s\n",
      "Wall time: 1.07 s\n"
     ]
    }
   ],
   "source": [
    "%%time\n",
    "df = df.groupby(['icustay_id', df['time']//pd.Timedelta('1 hour')]).mean().reset_index()"
   ]
  },
  {
   "cell_type": "code",
   "execution_count": 7,
   "metadata": {},
   "outputs": [
    {
     "data": {
      "text/html": [
       "<div>\n",
       "<style scoped>\n",
       "    .dataframe tbody tr th:only-of-type {\n",
       "        vertical-align: middle;\n",
       "    }\n",
       "\n",
       "    .dataframe tbody tr th {\n",
       "        vertical-align: top;\n",
       "    }\n",
       "\n",
       "    .dataframe thead th {\n",
       "        text-align: right;\n",
       "    }\n",
       "</style>\n",
       "<table border=\"1\" class=\"dataframe\">\n",
       "  <thead>\n",
       "    <tr style=\"text-align: right;\">\n",
       "      <th></th>\n",
       "      <th>icustay_id</th>\n",
       "      <th>time</th>\n",
       "      <th>heart_rate</th>\n",
       "      <th>sys_bp</th>\n",
       "      <th>dia_bp</th>\n",
       "      <th>mean_bp</th>\n",
       "      <th>resp_rate</th>\n",
       "      <th>temp</th>\n",
       "      <th>spo2</th>\n",
       "      <th>glucose</th>\n",
       "    </tr>\n",
       "  </thead>\n",
       "  <tbody>\n",
       "    <tr>\n",
       "      <th>0</th>\n",
       "      <td>200001</td>\n",
       "      <td>0</td>\n",
       "      <td>113.5</td>\n",
       "      <td>111.5</td>\n",
       "      <td>65.0</td>\n",
       "      <td>76.5</td>\n",
       "      <td>22.666667</td>\n",
       "      <td>37.277778</td>\n",
       "      <td>95.333333</td>\n",
       "      <td>NaN</td>\n",
       "    </tr>\n",
       "    <tr>\n",
       "      <th>1</th>\n",
       "      <td>200001</td>\n",
       "      <td>1</td>\n",
       "      <td>108.0</td>\n",
       "      <td>113.0</td>\n",
       "      <td>68.0</td>\n",
       "      <td>79.0</td>\n",
       "      <td>18.000000</td>\n",
       "      <td>NaN</td>\n",
       "      <td>98.000000</td>\n",
       "      <td>NaN</td>\n",
       "    </tr>\n",
       "    <tr>\n",
       "      <th>2</th>\n",
       "      <td>200001</td>\n",
       "      <td>2</td>\n",
       "      <td>110.0</td>\n",
       "      <td>116.0</td>\n",
       "      <td>68.0</td>\n",
       "      <td>79.0</td>\n",
       "      <td>27.000000</td>\n",
       "      <td>NaN</td>\n",
       "      <td>98.000000</td>\n",
       "      <td>118.0</td>\n",
       "    </tr>\n",
       "    <tr>\n",
       "      <th>3</th>\n",
       "      <td>200001</td>\n",
       "      <td>3</td>\n",
       "      <td>102.0</td>\n",
       "      <td>102.0</td>\n",
       "      <td>61.0</td>\n",
       "      <td>71.0</td>\n",
       "      <td>21.000000</td>\n",
       "      <td>37.666667</td>\n",
       "      <td>96.000000</td>\n",
       "      <td>NaN</td>\n",
       "    </tr>\n",
       "    <tr>\n",
       "      <th>4</th>\n",
       "      <td>200001</td>\n",
       "      <td>4</td>\n",
       "      <td>108.0</td>\n",
       "      <td>103.0</td>\n",
       "      <td>58.0</td>\n",
       "      <td>69.0</td>\n",
       "      <td>19.000000</td>\n",
       "      <td>NaN</td>\n",
       "      <td>94.000000</td>\n",
       "      <td>NaN</td>\n",
       "    </tr>\n",
       "  </tbody>\n",
       "</table>\n",
       "</div>"
      ],
      "text/plain": [
       "   icustay_id  time  heart_rate  sys_bp  dia_bp  mean_bp  resp_rate  \\\n",
       "0      200001     0       113.5   111.5    65.0     76.5  22.666667   \n",
       "1      200001     1       108.0   113.0    68.0     79.0  18.000000   \n",
       "2      200001     2       110.0   116.0    68.0     79.0  27.000000   \n",
       "3      200001     3       102.0   102.0    61.0     71.0  21.000000   \n",
       "4      200001     4       108.0   103.0    58.0     69.0  19.000000   \n",
       "\n",
       "        temp       spo2  glucose  \n",
       "0  37.277778  95.333333      NaN  \n",
       "1        NaN  98.000000      NaN  \n",
       "2        NaN  98.000000    118.0  \n",
       "3  37.666667  96.000000      NaN  \n",
       "4        NaN  94.000000      NaN  "
      ]
     },
     "execution_count": 7,
     "metadata": {},
     "output_type": "execute_result"
    }
   ],
   "source": [
    "df[:5]"
   ]
  },
  {
   "cell_type": "markdown",
   "metadata": {},
   "source": [
    "## 3. Fill in missing values"
   ]
  },
  {
   "cell_type": "markdown",
   "metadata": {},
   "source": [
    "#### For each ICU stay and variable, if no measurement occurred in an interval, use the most recent measurement value (forward propagation)"
   ]
  },
  {
   "cell_type": "code",
   "execution_count": 8,
   "metadata": {},
   "outputs": [],
   "source": [
    "df = df.groupby('icustay_id').ffill()"
   ]
  },
  {
   "cell_type": "code",
   "execution_count": 9,
   "metadata": {},
   "outputs": [
    {
     "data": {
      "text/html": [
       "<div>\n",
       "<style scoped>\n",
       "    .dataframe tbody tr th:only-of-type {\n",
       "        vertical-align: middle;\n",
       "    }\n",
       "\n",
       "    .dataframe tbody tr th {\n",
       "        vertical-align: top;\n",
       "    }\n",
       "\n",
       "    .dataframe thead th {\n",
       "        text-align: right;\n",
       "    }\n",
       "</style>\n",
       "<table border=\"1\" class=\"dataframe\">\n",
       "  <thead>\n",
       "    <tr style=\"text-align: right;\">\n",
       "      <th></th>\n",
       "      <th>icustay_id</th>\n",
       "      <th>time</th>\n",
       "      <th>heart_rate</th>\n",
       "      <th>sys_bp</th>\n",
       "      <th>dia_bp</th>\n",
       "      <th>mean_bp</th>\n",
       "      <th>resp_rate</th>\n",
       "      <th>temp</th>\n",
       "      <th>spo2</th>\n",
       "      <th>glucose</th>\n",
       "    </tr>\n",
       "  </thead>\n",
       "  <tbody>\n",
       "    <tr>\n",
       "      <th>0</th>\n",
       "      <td>200001</td>\n",
       "      <td>0</td>\n",
       "      <td>113.5</td>\n",
       "      <td>111.5</td>\n",
       "      <td>65.0</td>\n",
       "      <td>76.5</td>\n",
       "      <td>22.666667</td>\n",
       "      <td>37.277778</td>\n",
       "      <td>95.333333</td>\n",
       "      <td>NaN</td>\n",
       "    </tr>\n",
       "    <tr>\n",
       "      <th>1</th>\n",
       "      <td>200001</td>\n",
       "      <td>1</td>\n",
       "      <td>108.0</td>\n",
       "      <td>113.0</td>\n",
       "      <td>68.0</td>\n",
       "      <td>79.0</td>\n",
       "      <td>18.000000</td>\n",
       "      <td>37.277778</td>\n",
       "      <td>98.000000</td>\n",
       "      <td>NaN</td>\n",
       "    </tr>\n",
       "    <tr>\n",
       "      <th>2</th>\n",
       "      <td>200001</td>\n",
       "      <td>2</td>\n",
       "      <td>110.0</td>\n",
       "      <td>116.0</td>\n",
       "      <td>68.0</td>\n",
       "      <td>79.0</td>\n",
       "      <td>27.000000</td>\n",
       "      <td>37.277778</td>\n",
       "      <td>98.000000</td>\n",
       "      <td>118.0</td>\n",
       "    </tr>\n",
       "    <tr>\n",
       "      <th>3</th>\n",
       "      <td>200001</td>\n",
       "      <td>3</td>\n",
       "      <td>102.0</td>\n",
       "      <td>102.0</td>\n",
       "      <td>61.0</td>\n",
       "      <td>71.0</td>\n",
       "      <td>21.000000</td>\n",
       "      <td>37.666667</td>\n",
       "      <td>96.000000</td>\n",
       "      <td>118.0</td>\n",
       "    </tr>\n",
       "    <tr>\n",
       "      <th>4</th>\n",
       "      <td>200001</td>\n",
       "      <td>4</td>\n",
       "      <td>108.0</td>\n",
       "      <td>103.0</td>\n",
       "      <td>58.0</td>\n",
       "      <td>69.0</td>\n",
       "      <td>19.000000</td>\n",
       "      <td>37.666667</td>\n",
       "      <td>94.000000</td>\n",
       "      <td>118.0</td>\n",
       "    </tr>\n",
       "  </tbody>\n",
       "</table>\n",
       "</div>"
      ],
      "text/plain": [
       "   icustay_id  time  heart_rate  sys_bp  dia_bp  mean_bp  resp_rate  \\\n",
       "0      200001     0       113.5   111.5    65.0     76.5  22.666667   \n",
       "1      200001     1       108.0   113.0    68.0     79.0  18.000000   \n",
       "2      200001     2       110.0   116.0    68.0     79.0  27.000000   \n",
       "3      200001     3       102.0   102.0    61.0     71.0  21.000000   \n",
       "4      200001     4       108.0   103.0    58.0     69.0  19.000000   \n",
       "\n",
       "        temp       spo2  glucose  \n",
       "0  37.277778  95.333333      NaN  \n",
       "1  37.277778  98.000000      NaN  \n",
       "2  37.277778  98.000000    118.0  \n",
       "3  37.666667  96.000000    118.0  \n",
       "4  37.666667  94.000000    118.0  "
      ]
     },
     "execution_count": 9,
     "metadata": {},
     "output_type": "execute_result"
    }
   ],
   "source": [
    "df[:5]"
   ]
  },
  {
   "cell_type": "markdown",
   "metadata": {},
   "source": [
    "#### For remaining missing values, use first available measurement (backward propagation)"
   ]
  },
  {
   "cell_type": "code",
   "execution_count": 10,
   "metadata": {},
   "outputs": [],
   "source": [
    "df = df.groupby('icustay_id').bfill()"
   ]
  },
  {
   "cell_type": "code",
   "execution_count": 11,
   "metadata": {},
   "outputs": [
    {
     "data": {
      "text/html": [
       "<div>\n",
       "<style scoped>\n",
       "    .dataframe tbody tr th:only-of-type {\n",
       "        vertical-align: middle;\n",
       "    }\n",
       "\n",
       "    .dataframe tbody tr th {\n",
       "        vertical-align: top;\n",
       "    }\n",
       "\n",
       "    .dataframe thead th {\n",
       "        text-align: right;\n",
       "    }\n",
       "</style>\n",
       "<table border=\"1\" class=\"dataframe\">\n",
       "  <thead>\n",
       "    <tr style=\"text-align: right;\">\n",
       "      <th></th>\n",
       "      <th>icustay_id</th>\n",
       "      <th>time</th>\n",
       "      <th>heart_rate</th>\n",
       "      <th>sys_bp</th>\n",
       "      <th>dia_bp</th>\n",
       "      <th>mean_bp</th>\n",
       "      <th>resp_rate</th>\n",
       "      <th>temp</th>\n",
       "      <th>spo2</th>\n",
       "      <th>glucose</th>\n",
       "    </tr>\n",
       "  </thead>\n",
       "  <tbody>\n",
       "    <tr>\n",
       "      <th>0</th>\n",
       "      <td>200001</td>\n",
       "      <td>0</td>\n",
       "      <td>113.5</td>\n",
       "      <td>111.5</td>\n",
       "      <td>65.0</td>\n",
       "      <td>76.5</td>\n",
       "      <td>22.666667</td>\n",
       "      <td>37.277778</td>\n",
       "      <td>95.333333</td>\n",
       "      <td>118.0</td>\n",
       "    </tr>\n",
       "    <tr>\n",
       "      <th>1</th>\n",
       "      <td>200001</td>\n",
       "      <td>1</td>\n",
       "      <td>108.0</td>\n",
       "      <td>113.0</td>\n",
       "      <td>68.0</td>\n",
       "      <td>79.0</td>\n",
       "      <td>18.000000</td>\n",
       "      <td>37.277778</td>\n",
       "      <td>98.000000</td>\n",
       "      <td>118.0</td>\n",
       "    </tr>\n",
       "    <tr>\n",
       "      <th>2</th>\n",
       "      <td>200001</td>\n",
       "      <td>2</td>\n",
       "      <td>110.0</td>\n",
       "      <td>116.0</td>\n",
       "      <td>68.0</td>\n",
       "      <td>79.0</td>\n",
       "      <td>27.000000</td>\n",
       "      <td>37.277778</td>\n",
       "      <td>98.000000</td>\n",
       "      <td>118.0</td>\n",
       "    </tr>\n",
       "    <tr>\n",
       "      <th>3</th>\n",
       "      <td>200001</td>\n",
       "      <td>3</td>\n",
       "      <td>102.0</td>\n",
       "      <td>102.0</td>\n",
       "      <td>61.0</td>\n",
       "      <td>71.0</td>\n",
       "      <td>21.000000</td>\n",
       "      <td>37.666667</td>\n",
       "      <td>96.000000</td>\n",
       "      <td>118.0</td>\n",
       "    </tr>\n",
       "    <tr>\n",
       "      <th>4</th>\n",
       "      <td>200001</td>\n",
       "      <td>4</td>\n",
       "      <td>108.0</td>\n",
       "      <td>103.0</td>\n",
       "      <td>58.0</td>\n",
       "      <td>69.0</td>\n",
       "      <td>19.000000</td>\n",
       "      <td>37.666667</td>\n",
       "      <td>94.000000</td>\n",
       "      <td>118.0</td>\n",
       "    </tr>\n",
       "  </tbody>\n",
       "</table>\n",
       "</div>"
      ],
      "text/plain": [
       "   icustay_id  time  heart_rate  sys_bp  dia_bp  mean_bp  resp_rate  \\\n",
       "0      200001     0       113.5   111.5    65.0     76.5  22.666667   \n",
       "1      200001     1       108.0   113.0    68.0     79.0  18.000000   \n",
       "2      200001     2       110.0   116.0    68.0     79.0  27.000000   \n",
       "3      200001     3       102.0   102.0    61.0     71.0  21.000000   \n",
       "4      200001     4       108.0   103.0    58.0     69.0  19.000000   \n",
       "\n",
       "        temp       spo2  glucose  \n",
       "0  37.277778  95.333333    118.0  \n",
       "1  37.277778  98.000000    118.0  \n",
       "2  37.277778  98.000000    118.0  \n",
       "3  37.666667  96.000000    118.0  \n",
       "4  37.666667  94.000000    118.0  "
      ]
     },
     "execution_count": 11,
     "metadata": {},
     "output_type": "execute_result"
    }
   ],
   "source": [
    "df[:5]"
   ]
  },
  {
   "cell_type": "markdown",
   "metadata": {},
   "source": [
    "## 4. Save data"
   ]
  },
  {
   "cell_type": "code",
   "execution_count": 12,
   "metadata": {},
   "outputs": [],
   "source": [
    "df.to_csv('data/vitals.csv', index=None)"
   ]
  },
  {
   "cell_type": "markdown",
   "metadata": {},
   "source": [
    "## 5. Extract and save mortality labels"
   ]
  },
  {
   "cell_type": "code",
   "execution_count": 13,
   "metadata": {},
   "outputs": [],
   "source": [
    "labels = pd.read_sql_query(\"\"\"\n",
    "SELECT\n",
    "    ie.icustay_id,\n",
    "    adm.hospital_expire_flag as label\n",
    "FROM\n",
    "    icustays ie\n",
    "    left join admissions adm\n",
    "    on ie.hadm_id = adm.hadm_id\n",
    "\"\"\", con=engine)"
   ]
  },
  {
   "cell_type": "code",
   "execution_count": 14,
   "metadata": {},
   "outputs": [
    {
     "data": {
      "text/html": [
       "<div>\n",
       "<style scoped>\n",
       "    .dataframe tbody tr th:only-of-type {\n",
       "        vertical-align: middle;\n",
       "    }\n",
       "\n",
       "    .dataframe tbody tr th {\n",
       "        vertical-align: top;\n",
       "    }\n",
       "\n",
       "    .dataframe thead th {\n",
       "        text-align: right;\n",
       "    }\n",
       "</style>\n",
       "<table border=\"1\" class=\"dataframe\">\n",
       "  <thead>\n",
       "    <tr style=\"text-align: right;\">\n",
       "      <th></th>\n",
       "      <th>icustay_id</th>\n",
       "      <th>label</th>\n",
       "    </tr>\n",
       "  </thead>\n",
       "  <tbody>\n",
       "    <tr>\n",
       "      <th>0</th>\n",
       "      <td>280836</td>\n",
       "      <td>1</td>\n",
       "    </tr>\n",
       "    <tr>\n",
       "      <th>1</th>\n",
       "      <td>206613</td>\n",
       "      <td>0</td>\n",
       "    </tr>\n",
       "    <tr>\n",
       "      <th>2</th>\n",
       "      <td>220345</td>\n",
       "      <td>0</td>\n",
       "    </tr>\n",
       "    <tr>\n",
       "      <th>3</th>\n",
       "      <td>249196</td>\n",
       "      <td>0</td>\n",
       "    </tr>\n",
       "    <tr>\n",
       "      <th>4</th>\n",
       "      <td>210407</td>\n",
       "      <td>0</td>\n",
       "    </tr>\n",
       "  </tbody>\n",
       "</table>\n",
       "</div>"
      ],
      "text/plain": [
       "   icustay_id  label\n",
       "0      280836      1\n",
       "1      206613      0\n",
       "2      220345      0\n",
       "3      249196      0\n",
       "4      210407      0"
      ]
     },
     "execution_count": 14,
     "metadata": {},
     "output_type": "execute_result"
    }
   ],
   "source": [
    "labels[:5]"
   ]
  },
  {
   "cell_type": "code",
   "execution_count": 15,
   "metadata": {},
   "outputs": [],
   "source": [
    "labels.to_csv('data/vitals_labels.csv', index=None)"
   ]
  },
  {
   "cell_type": "markdown",
   "metadata": {},
   "source": [
    "## 6. Example data plots"
   ]
  },
  {
   "cell_type": "code",
   "execution_count": 16,
   "metadata": {},
   "outputs": [],
   "source": [
    "def plot(icustay_id, linewidth=3):\n",
    "    fig = plt.figure(figsize=(20,5))\n",
    "    ax = plt.gca()\n",
    "    \n",
    "    data = df[df['icustay_id'] == icustay_id]\n",
    "\n",
    "    ax.plot(data['heart_rate'].values, label='Heart rate', linewidth=linewidth)\n",
    "    ax.plot(data['sys_bp'].values, label='Systolic BP', linewidth=linewidth)\n",
    "    ax.plot(data['dia_bp'].values, label='Diastolic BP', linewidth=linewidth)\n",
    "    ax.plot(data['mean_bp'].values, label='Mean BP', linewidth=linewidth)\n",
    "    ax.plot(data['resp_rate'].values, label='Respiratory rate', linewidth=linewidth)\n",
    "    ax.plot(data['temp'].values, label='Temperature', linewidth=linewidth)\n",
    "    ax.plot(data['spo2'].values, label='SpO2', linewidth=linewidth)\n",
    "    ax.plot(data['glucose'].values, label='Glucose', linewidth=linewidth)\n",
    "    \n",
    "    ax.set_xlabel('Hours After ICU Admission')\n",
    "    ax.set_xlim([0,23])\n",
    "    \n",
    "    legend = ax.legend(loc='center right', bbox_to_anchor=(1.15, 0.5), fontsize=12)\n",
    "    \n",
    "    plt.show()"
   ]
  },
  {
   "cell_type": "code",
   "execution_count": 17,
   "metadata": {},
   "outputs": [
    {
     "data": {
      "text/plain": [
       "[200001, 200003, 200006, 200007, 200009]"
      ]
     },
     "execution_count": 17,
     "metadata": {},
     "output_type": "execute_result"
    }
   ],
   "source": [
    "icustay_ids = list(df['icustay_id'].unique())\n",
    "icustay_ids[:5]"
   ]
  },
  {
   "cell_type": "code",
   "execution_count": 18,
   "metadata": {},
   "outputs": [
    {
     "data": {
      "image/png": "[encoded data removed]",
      "text/plain": [
       "<Figure size 1440x360 with 1 Axes>"
      ]
     },
     "metadata": {
      "needs_background": "light"
     },
     "output_type": "display_data"
    }
   ],
   "source": [
    "plot(200001)"
   ]
  },
  {
   "cell_type": "code",
   "execution_count": 19,
   "metadata": {},
   "outputs": [
    {
     "data": {
      "image/png": "[encoded data removed]",
      "text/plain": [
       "<Figure size 1440x360 with 1 Axes>"
      ]
     },
     "metadata": {
      "needs_background": "light"
     },
     "output_type": "display_data"
    }
   ],
   "source": [
    "plot(200003)"
   ]
  },
  {
   "cell_type": "code",
   "execution_count": 20,
   "metadata": {},
   "outputs": [
    {
     "data": {
      "image/png": "[encoded data removed]",
      "text/plain": [
       "<Figure size 1440x360 with 1 Axes>"
      ]
     },
     "metadata": {
      "needs_background": "light"
     },
     "output_type": "display_data"
    }
   ],
   "source": [
    "plot(200006)"
   ]
  },
  {
   "cell_type": "code",
   "execution_count": 21,
   "metadata": {},
   "outputs": [
    {
     "data": {
      "image/png": "[encoded data removed]",
      "text/plain": [
       "<Figure size 1440x360 with 1 Axes>"
      ]
     },
     "metadata": {
      "needs_background": "light"
     },
     "output_type": "display_data"
    }
   ],
   "source": [
    "plot(200007)"
   ]
  },
  {
   "cell_type": "code",
   "execution_count": 22,
   "metadata": {},
   "outputs": [
    {
     "data": {
      "image/png": "[encoded data removed]",
      "text/plain": [
       "<Figure size 1440x360 with 1 Axes>"
      ]
     },
     "metadata": {
      "needs_background": "light"
     },
     "output_type": "display_data"
    }
   ],
   "source": [
    "plot(200009)"
   ]
  },
  {
   "cell_type": "markdown",
   "metadata": {},
   "source": [
    "## 7. Load data and labels"
   ]
  },
  {
   "cell_type": "code",
   "execution_count": 23,
   "metadata": {},
   "outputs": [
    {
     "data": {
      "text/html": [
       "<div>\n",
       "<style scoped>\n",
       "    .dataframe tbody tr th:only-of-type {\n",
       "        vertical-align: middle;\n",
       "    }\n",
       "\n",
       "    .dataframe tbody tr th {\n",
       "        vertical-align: top;\n",
       "    }\n",
       "\n",
       "    .dataframe thead th {\n",
       "        text-align: right;\n",
       "    }\n",
       "</style>\n",
       "<table border=\"1\" class=\"dataframe\">\n",
       "  <thead>\n",
       "    <tr style=\"text-align: right;\">\n",
       "      <th></th>\n",
       "      <th>icustay_id</th>\n",
       "      <th>time</th>\n",
       "      <th>heart_rate</th>\n",
       "      <th>sys_bp</th>\n",
       "      <th>dia_bp</th>\n",
       "      <th>mean_bp</th>\n",
       "      <th>resp_rate</th>\n",
       "      <th>temp</th>\n",
       "      <th>spo2</th>\n",
       "      <th>glucose</th>\n",
       "    </tr>\n",
       "  </thead>\n",
       "  <tbody>\n",
       "    <tr>\n",
       "      <th>0</th>\n",
       "      <td>200001</td>\n",
       "      <td>0</td>\n",
       "      <td>113.5</td>\n",
       "      <td>111.5</td>\n",
       "      <td>65.0</td>\n",
       "      <td>76.5</td>\n",
       "      <td>22.666667</td>\n",
       "      <td>37.277778</td>\n",
       "      <td>95.333333</td>\n",
       "      <td>118.0</td>\n",
       "    </tr>\n",
       "    <tr>\n",
       "      <th>1</th>\n",
       "      <td>200001</td>\n",
       "      <td>1</td>\n",
       "      <td>108.0</td>\n",
       "      <td>113.0</td>\n",
       "      <td>68.0</td>\n",
       "      <td>79.0</td>\n",
       "      <td>18.000000</td>\n",
       "      <td>37.277778</td>\n",
       "      <td>98.000000</td>\n",
       "      <td>118.0</td>\n",
       "    </tr>\n",
       "    <tr>\n",
       "      <th>2</th>\n",
       "      <td>200001</td>\n",
       "      <td>2</td>\n",
       "      <td>110.0</td>\n",
       "      <td>116.0</td>\n",
       "      <td>68.0</td>\n",
       "      <td>79.0</td>\n",
       "      <td>27.000000</td>\n",
       "      <td>37.277778</td>\n",
       "      <td>98.000000</td>\n",
       "      <td>118.0</td>\n",
       "    </tr>\n",
       "    <tr>\n",
       "      <th>3</th>\n",
       "      <td>200001</td>\n",
       "      <td>3</td>\n",
       "      <td>102.0</td>\n",
       "      <td>102.0</td>\n",
       "      <td>61.0</td>\n",
       "      <td>71.0</td>\n",
       "      <td>21.000000</td>\n",
       "      <td>37.666667</td>\n",
       "      <td>96.000000</td>\n",
       "      <td>118.0</td>\n",
       "    </tr>\n",
       "    <tr>\n",
       "      <th>4</th>\n",
       "      <td>200001</td>\n",
       "      <td>4</td>\n",
       "      <td>108.0</td>\n",
       "      <td>103.0</td>\n",
       "      <td>58.0</td>\n",
       "      <td>69.0</td>\n",
       "      <td>19.000000</td>\n",
       "      <td>37.666667</td>\n",
       "      <td>94.000000</td>\n",
       "      <td>118.0</td>\n",
       "    </tr>\n",
       "  </tbody>\n",
       "</table>\n",
       "</div>"
      ],
      "text/plain": [
       "   icustay_id  time  heart_rate  sys_bp  dia_bp  mean_bp  resp_rate  \\\n",
       "0      200001     0       113.5   111.5    65.0     76.5  22.666667   \n",
       "1      200001     1       108.0   113.0    68.0     79.0  18.000000   \n",
       "2      200001     2       110.0   116.0    68.0     79.0  27.000000   \n",
       "3      200001     3       102.0   102.0    61.0     71.0  21.000000   \n",
       "4      200001     4       108.0   103.0    58.0     69.0  19.000000   \n",
       "\n",
       "        temp       spo2  glucose  \n",
       "0  37.277778  95.333333    118.0  \n",
       "1  37.277778  98.000000    118.0  \n",
       "2  37.277778  98.000000    118.0  \n",
       "3  37.666667  96.000000    118.0  \n",
       "4  37.666667  94.000000    118.0  "
      ]
     },
     "execution_count": 23,
     "metadata": {},
     "output_type": "execute_result"
    }
   ],
   "source": [
    "VARIABLES = ['heart_rate', 'sys_bp', 'dia_bp', 'mean_bp', 'resp_rate', 'temp', 'spo2', 'glucose']\n",
    "\n",
    "ts_data = pd.read_csv('data/vitals.csv')\n",
    "ts_data[:5]"
   ]
  },
  {
   "cell_type": "code",
   "execution_count": 24,
   "metadata": {},
   "outputs": [
    {
     "data": {
      "text/html": [
       "<div>\n",
       "<style scoped>\n",
       "    .dataframe tbody tr th:only-of-type {\n",
       "        vertical-align: middle;\n",
       "    }\n",
       "\n",
       "    .dataframe tbody tr th {\n",
       "        vertical-align: top;\n",
       "    }\n",
       "\n",
       "    .dataframe thead th {\n",
       "        text-align: right;\n",
       "    }\n",
       "</style>\n",
       "<table border=\"1\" class=\"dataframe\">\n",
       "  <thead>\n",
       "    <tr style=\"text-align: right;\">\n",
       "      <th></th>\n",
       "      <th>icustay_id</th>\n",
       "      <th>label</th>\n",
       "    </tr>\n",
       "  </thead>\n",
       "  <tbody>\n",
       "    <tr>\n",
       "      <th>0</th>\n",
       "      <td>280836</td>\n",
       "      <td>1</td>\n",
       "    </tr>\n",
       "    <tr>\n",
       "      <th>1</th>\n",
       "      <td>206613</td>\n",
       "      <td>0</td>\n",
       "    </tr>\n",
       "    <tr>\n",
       "      <th>2</th>\n",
       "      <td>220345</td>\n",
       "      <td>0</td>\n",
       "    </tr>\n",
       "    <tr>\n",
       "      <th>3</th>\n",
       "      <td>249196</td>\n",
       "      <td>0</td>\n",
       "    </tr>\n",
       "    <tr>\n",
       "      <th>4</th>\n",
       "      <td>210407</td>\n",
       "      <td>0</td>\n",
       "    </tr>\n",
       "  </tbody>\n",
       "</table>\n",
       "</div>"
      ],
      "text/plain": [
       "   icustay_id  label\n",
       "0      280836      1\n",
       "1      206613      0\n",
       "2      220345      0\n",
       "3      249196      0\n",
       "4      210407      0"
      ]
     },
     "execution_count": 24,
     "metadata": {},
     "output_type": "execute_result"
    }
   ],
   "source": [
    "ts_labels = pd.read_csv('data/vitals_labels.csv')\n",
    "ts_labels[:5]"
   ]
  },
  {
   "cell_type": "code",
   "execution_count": 25,
   "metadata": {},
   "outputs": [],
   "source": [
    "ts_data = ts_data.drop(columns=['time'])"
   ]
  },
  {
   "cell_type": "markdown",
   "metadata": {},
   "source": [
    "## 8. Normalize features"
   ]
  },
  {
   "cell_type": "markdown",
   "metadata": {},
   "source": [
    "Standardization: $x' = \\frac{x - \\bar{x}}{\\sigma}$\n",
    "\n",
    "Note: this should actually be done **after** the train/val/test split, calling .fit() on training values only, and then .transform() on all 3 sets. For this example, we're scaling based on all values, but in practice, the scaler should not know about the validation and test sets."
   ]
  },
  {
   "cell_type": "code",
   "execution_count": 26,
   "metadata": {},
   "outputs": [],
   "source": [
    "data = ts_data.copy()\n",
    "for variable in VARIABLES:\n",
    "    scaler = StandardScaler()\n",
    "    data[variable] = scaler.fit_transform(data[variable].values.reshape(-1,1))"
   ]
  },
  {
   "cell_type": "code",
   "execution_count": 27,
   "metadata": {},
   "outputs": [
    {
     "data": {
      "text/html": [
       "<div>\n",
       "<style scoped>\n",
       "    .dataframe tbody tr th:only-of-type {\n",
       "        vertical-align: middle;\n",
       "    }\n",
       "\n",
       "    .dataframe tbody tr th {\n",
       "        vertical-align: top;\n",
       "    }\n",
       "\n",
       "    .dataframe thead th {\n",
       "        text-align: right;\n",
       "    }\n",
       "</style>\n",
       "<table border=\"1\" class=\"dataframe\">\n",
       "  <thead>\n",
       "    <tr style=\"text-align: right;\">\n",
       "      <th></th>\n",
       "      <th>icustay_id</th>\n",
       "      <th>heart_rate</th>\n",
       "      <th>sys_bp</th>\n",
       "      <th>dia_bp</th>\n",
       "      <th>mean_bp</th>\n",
       "      <th>resp_rate</th>\n",
       "      <th>temp</th>\n",
       "      <th>spo2</th>\n",
       "      <th>glucose</th>\n",
       "    </tr>\n",
       "  </thead>\n",
       "  <tbody>\n",
       "    <tr>\n",
       "      <th>0</th>\n",
       "      <td>200001</td>\n",
       "      <td>1.037161</td>\n",
       "      <td>-0.348265</td>\n",
       "      <td>0.317805</td>\n",
       "      <td>-0.088839</td>\n",
       "      <td>0.690817</td>\n",
       "      <td>0.546693</td>\n",
       "      <td>-0.538583</td>\n",
       "      <td>-0.022463</td>\n",
       "    </tr>\n",
       "    <tr>\n",
       "      <th>1</th>\n",
       "      <td>200001</td>\n",
       "      <td>0.797887</td>\n",
       "      <td>-0.277900</td>\n",
       "      <td>0.529442</td>\n",
       "      <td>0.076864</td>\n",
       "      <td>-0.165601</td>\n",
       "      <td>0.546693</td>\n",
       "      <td>0.241495</td>\n",
       "      <td>-0.022463</td>\n",
       "    </tr>\n",
       "    <tr>\n",
       "      <th>2</th>\n",
       "      <td>200001</td>\n",
       "      <td>0.884896</td>\n",
       "      <td>-0.137170</td>\n",
       "      <td>0.529442</td>\n",
       "      <td>0.076864</td>\n",
       "      <td>1.486063</td>\n",
       "      <td>0.546693</td>\n",
       "      <td>0.241495</td>\n",
       "      <td>-0.022463</td>\n",
       "    </tr>\n",
       "    <tr>\n",
       "      <th>3</th>\n",
       "      <td>200001</td>\n",
       "      <td>0.536862</td>\n",
       "      <td>-0.793909</td>\n",
       "      <td>0.035623</td>\n",
       "      <td>-0.453384</td>\n",
       "      <td>0.384954</td>\n",
       "      <td>1.031733</td>\n",
       "      <td>-0.343563</td>\n",
       "      <td>-0.022463</td>\n",
       "    </tr>\n",
       "    <tr>\n",
       "      <th>4</th>\n",
       "      <td>200001</td>\n",
       "      <td>0.797887</td>\n",
       "      <td>-0.746999</td>\n",
       "      <td>-0.176014</td>\n",
       "      <td>-0.585947</td>\n",
       "      <td>0.017917</td>\n",
       "      <td>1.031733</td>\n",
       "      <td>-0.928621</td>\n",
       "      <td>-0.022463</td>\n",
       "    </tr>\n",
       "  </tbody>\n",
       "</table>\n",
       "</div>"
      ],
      "text/plain": [
       "   icustay_id  heart_rate    sys_bp    dia_bp   mean_bp  resp_rate      temp  \\\n",
       "0      200001    1.037161 -0.348265  0.317805 -0.088839   0.690817  0.546693   \n",
       "1      200001    0.797887 -0.277900  0.529442  0.076864  -0.165601  0.546693   \n",
       "2      200001    0.884896 -0.137170  0.529442  0.076864   1.486063  0.546693   \n",
       "3      200001    0.536862 -0.793909  0.035623 -0.453384   0.384954  1.031733   \n",
       "4      200001    0.797887 -0.746999 -0.176014 -0.585947   0.017917  1.031733   \n",
       "\n",
       "       spo2   glucose  \n",
       "0 -0.538583 -0.022463  \n",
       "1  0.241495 -0.022463  \n",
       "2  0.241495 -0.022463  \n",
       "3 -0.343563 -0.022463  \n",
       "4 -0.928621 -0.022463  "
      ]
     },
     "execution_count": 27,
     "metadata": {},
     "output_type": "execute_result"
    }
   ],
   "source": [
    "data[:5]"
   ]
  },
  {
   "cell_type": "markdown",
   "metadata": {},
   "source": [
    "## 9. Build dataset"
   ]
  },
  {
   "cell_type": "markdown",
   "metadata": {},
   "source": [
    "#### Data dictionary: {icustay_id --> sequence}"
   ]
  },
  {
   "cell_type": "code",
   "execution_count": 28,
   "metadata": {},
   "outputs": [],
   "source": [
    "data_dict = dict(data.groupby('icustay_id').apply(lambda group: group[VARIABLES].values))"
   ]
  },
  {
   "cell_type": "code",
   "execution_count": 29,
   "metadata": {},
   "outputs": [
    {
     "data": {
      "text/plain": [
       "array([[ 1.2764338 ,  1.69231454,  0.38835094,  1.18155077, -0.16560095,\n",
       "         0.06165535,  0.53402351,  0.04967756],\n",
       "       [ 1.31993801,  1.87995403,  1.30544475,  1.84438108, -1.26671035,\n",
       "         0.06165535,  0.53402351,  0.04967756],\n",
       "       [ 1.66797174,  0.80102697, -0.66983421,  0.09895541,  0.38495376,\n",
       "         0.06165535, -0.05103442,  0.04967756],\n",
       "       [ 1.10241694,  0.94175659, -0.45819718,  0.29779859, -0.16560095,\n",
       "         0.06165535, -0.05103442,  0.04967756],\n",
       "       [ 1.31993801,  0.47265787, -0.3876515 ,  0.12105382, -0.16560095,\n",
       "         0.06165535,  0.53402351,  0.04967756]])"
      ]
     },
     "execution_count": 29,
     "metadata": {},
     "output_type": "execute_result"
    }
   ],
   "source": [
    "data_dict[200381]"
   ]
  },
  {
   "cell_type": "code",
   "execution_count": 30,
   "metadata": {},
   "outputs": [
    {
     "data": {
      "text/plain": [
       "(5, 8)"
      ]
     },
     "execution_count": 30,
     "metadata": {},
     "output_type": "execute_result"
    }
   ],
   "source": [
    "data_dict[200381].shape"
   ]
  },
  {
   "cell_type": "code",
   "execution_count": 31,
   "metadata": {},
   "outputs": [
    {
     "data": {
      "text/plain": [
       "(24, 8)"
      ]
     },
     "execution_count": 31,
     "metadata": {},
     "output_type": "execute_result"
    }
   ],
   "source": [
    "data_dict[200001].shape"
   ]
  },
  {
   "cell_type": "markdown",
   "metadata": {},
   "source": [
    "#### Outcome dictionary: {icustay_id --> mortality label}"
   ]
  },
  {
   "cell_type": "code",
   "execution_count": 32,
   "metadata": {},
   "outputs": [],
   "source": [
    "outcome_dict = dict([x for x in ts_labels[['icustay_id', 'label']].values])"
   ]
  },
  {
   "cell_type": "code",
   "execution_count": 33,
   "metadata": {},
   "outputs": [
    {
     "data": {
      "text/plain": [
       "0"
      ]
     },
     "execution_count": 33,
     "metadata": {},
     "output_type": "execute_result"
    }
   ],
   "source": [
    "outcome_dict[200001]"
   ]
  },
  {
   "cell_type": "code",
   "execution_count": 34,
   "metadata": {},
   "outputs": [
    {
     "data": {
      "text/plain": [
       "1"
      ]
     },
     "execution_count": 34,
     "metadata": {},
     "output_type": "execute_result"
    }
   ],
   "source": [
    "outcome_dict[280836]"
   ]
  },
  {
   "cell_type": "markdown",
   "metadata": {},
   "source": [
    "#### Build X and y from dictionaries"
   ]
  },
  {
   "cell_type": "code",
   "execution_count": 35,
   "metadata": {},
   "outputs": [],
   "source": [
    "icustay_ids = list(sorted(list(data_dict.keys())))\n",
    "\n",
    "X = [data_dict[icustay_id] for icustay_id in icustay_ids]\n",
    "y = np.array([outcome_dict[icustay_id] for icustay_id in icustay_ids])"
   ]
  },
  {
   "cell_type": "markdown",
   "metadata": {},
   "source": [
    "## 10. Prepare input data"
   ]
  },
  {
   "cell_type": "markdown",
   "metadata": {},
   "source": [
    "#### Pad sequences to uniform length (max sequence length)"
   ]
  },
  {
   "cell_type": "code",
   "execution_count": 36,
   "metadata": {},
   "outputs": [
    {
     "data": {
      "text/plain": [
       "count    59248.000000\n",
       "mean        20.791098\n",
       "std          5.446613\n",
       "min          1.000000\n",
       "25%         21.000000\n",
       "50%         23.000000\n",
       "75%         24.000000\n",
       "max         24.000000\n",
       "dtype: float64"
      ]
     },
     "execution_count": 36,
     "metadata": {},
     "output_type": "execute_result"
    }
   ],
   "source": [
    "sequence_lengths = [len(x) for x in X]\n",
    "pd.Series(sequence_lengths).describe()"
   ]
  },
  {
   "cell_type": "code",
   "execution_count": 37,
   "metadata": {},
   "outputs": [
    {
     "data": {
      "text/plain": [
       "(59248, 24, 8)"
      ]
     },
     "execution_count": 37,
     "metadata": {},
     "output_type": "execute_result"
    }
   ],
   "source": [
    "X_padded = pad_sequences(sequences=X,\n",
    "                         maxlen=max(sequence_lengths),\n",
    "                         padding='post',\n",
    "                         truncating='pre',\n",
    "                         value=999)\n",
    "X_padded.shape"
   ]
  },
  {
   "cell_type": "markdown",
   "metadata": {},
   "source": [
    "#### Split into train, validation, and test sets"
   ]
  },
  {
   "cell_type": "markdown",
   "metadata": {},
   "source": [
    "* 80% train, 20% test\n",
    "* Use 20% of train for validation"
   ]
  },
  {
   "cell_type": "code",
   "execution_count": 38,
   "metadata": {},
   "outputs": [
    {
     "name": "stdout",
     "output_type": "stream",
     "text": [
      "# Train examples = 37918\n",
      "# Validation examples = 9480\n",
      "# Test examples = 11850\n"
     ]
    }
   ],
   "source": [
    "X_train, X_test, y_train, y_test = train_test_split(X_padded, y, test_size=0.2, shuffle=True)\n",
    "X_train, X_val, y_train, y_val = train_test_split(X_train, y_train, test_size=0.2, shuffle=True)\n",
    "\n",
    "print('# Train examples = %d' % len(y_train))\n",
    "print('# Validation examples = %d' % len(y_val))\n",
    "print('# Test examples = %d' % len(y_test))"
   ]
  },
  {
   "cell_type": "markdown",
   "metadata": {},
   "source": [
    "## 11. RNN (LSTM)"
   ]
  },
  {
   "cell_type": "markdown",
   "metadata": {},
   "source": [
    "#### Model using Keras functional API"
   ]
  },
  {
   "cell_type": "code",
   "execution_count": 39,
   "metadata": {},
   "outputs": [],
   "source": [
    "def build_model(lstm_units=64, dropout=0.2, input_shape=(24,8), mask_value=999, optimizer='adam'):\n",
    "    model_input = Input(shape=input_shape)\n",
    "    mask = Masking(mask_value=mask_value)(model_input)\n",
    "    lstm = LSTM(units=lstm_units)(mask)\n",
    "    dropout = Dropout(rate=dropout)(lstm)\n",
    "    model_output = Dense(units=1, activation='sigmoid')(dropout)\n",
    "    model = Model(model_input, model_output)\n",
    "    model.compile(loss='binary_crossentropy', optimizer=optimizer, metrics=['accuracy'])\n",
    "    return model"
   ]
  },
  {
   "cell_type": "markdown",
   "metadata": {},
   "source": [
    "#### Build model"
   ]
  },
  {
   "cell_type": "code",
   "execution_count": 40,
   "metadata": {},
   "outputs": [],
   "source": [
    "model = build_model()"
   ]
  },
  {
   "cell_type": "markdown",
   "metadata": {},
   "source": [
    "#### Train model"
   ]
  },
  {
   "cell_type": "code",
   "execution_count": 41,
   "metadata": {},
   "outputs": [
    {
     "name": "stdout",
     "output_type": "stream",
     "text": [
      "Train on 37918 samples, validate on 9480 samples\n",
      "Epoch 1/5\n",
      "37918/37918 [==============================] - 8s 218us/step - loss: 0.4396 - acc: 0.7801 - val_loss: 0.3877 - val_acc: 0.7742\n",
      "Epoch 2/5\n",
      "37918/37918 [==============================] - 7s 192us/step - loss: 0.3687 - acc: 0.8458 - val_loss: 0.3583 - val_acc: 0.8983\n",
      "Epoch 3/5\n",
      "37918/37918 [==============================] - 6s 169us/step - loss: 0.3560 - acc: 0.8705 - val_loss: 0.3428 - val_acc: 0.8970\n",
      "Epoch 4/5\n",
      "37918/37918 [==============================] - 7s 189us/step - loss: 0.3359 - acc: 0.8893 - val_loss: 0.3126 - val_acc: 0.8944\n",
      "Epoch 5/5\n",
      "37918/37918 [==============================] - 7s 194us/step - loss: 0.3285 - acc: 0.8927 - val_loss: 0.3262 - val_acc: 0.8963\n"
     ]
    },
    {
     "data": {
      "text/plain": [
       "<keras.callbacks.History at 0x7f32513b5400>"
      ]
     },
     "execution_count": 41,
     "metadata": {},
     "output_type": "execute_result"
    }
   ],
   "source": [
    "model.fit(x=X_train,\n",
    "          y=y_train,\n",
    "          batch_size=256,\n",
    "          epochs=5,\n",
    "          validation_data=(X_val, y_val))"
   ]
  },
  {
   "cell_type": "markdown",
   "metadata": {},
   "source": [
    "## 12. Evaluation"
   ]
  },
  {
   "cell_type": "markdown",
   "metadata": {},
   "source": [
    "#### Get prediction probabilities for test set"
   ]
  },
  {
   "cell_type": "code",
   "execution_count": 42,
   "metadata": {},
   "outputs": [
    {
     "data": {
      "text/plain": [
       "array([0.02626532, 0.3542437 , 0.17709428, 0.15505192, 0.2001451 ],\n",
       "      dtype=float32)"
      ]
     },
     "execution_count": 42,
     "metadata": {},
     "output_type": "execute_result"
    }
   ],
   "source": [
    "y_pred_proba = model.predict(X_test, batch_size=256).flatten()\n",
    "y_pred_proba[:5]"
   ]
  },
  {
   "cell_type": "markdown",
   "metadata": {},
   "source": [
    "#### Round probabilities to get predicted class labels (0 or 1)"
   ]
  },
  {
   "cell_type": "code",
   "execution_count": 43,
   "metadata": {},
   "outputs": [
    {
     "data": {
      "text/plain": [
       "array([0., 0., 0., 0., 0.], dtype=float32)"
      ]
     },
     "execution_count": 43,
     "metadata": {},
     "output_type": "execute_result"
    }
   ],
   "source": [
    "y_pred = np.round(y_pred_proba)\n",
    "y_pred[:5]"
   ]
  },
  {
   "cell_type": "markdown",
   "metadata": {},
   "source": [
    "#### Test set results"
   ]
  },
  {
   "cell_type": "code",
   "execution_count": 44,
   "metadata": {},
   "outputs": [
    {
     "name": "stdout",
     "output_type": "stream",
     "text": [
      "Test accuracy = 0.898\n",
      "Test AUC = 0.708\n",
      "\n",
      "              precision    recall  f1-score   support\n",
      "\n",
      "           0       0.90      0.99      0.95     10541\n",
      "           1       0.70      0.13      0.23      1309\n",
      "\n",
      "   micro avg       0.90      0.90      0.90     11850\n",
      "   macro avg       0.80      0.56      0.59     11850\n",
      "weighted avg       0.88      0.90      0.87     11850\n",
      "\n"
     ]
    }
   ],
   "source": [
    "accuracy = accuracy_score(y_test, y_pred)\n",
    "auc = roc_auc_score(y_test, y_pred_proba)\n",
    "\n",
    "print('Test accuracy = %.3f' % accuracy)\n",
    "print('Test AUC = %.3f' % auc)\n",
    "print()\n",
    "print(classification_report(y_test, y_pred))"
   ]
  },
  {
   "cell_type": "markdown",
   "metadata": {},
   "source": [
    "#### Check how many predictions were made of each class"
   ]
  },
  {
   "cell_type": "code",
   "execution_count": 45,
   "metadata": {},
   "outputs": [
    {
     "data": {
      "text/plain": [
       "0.0    11597\n",
       "1.0      253\n",
       "Name: 0, dtype: int64"
      ]
     },
     "execution_count": 45,
     "metadata": {},
     "output_type": "execute_result"
    }
   ],
   "source": [
    "pd.DataFrame(y_pred)[0].value_counts()"
   ]
  },
  {
   "cell_type": "markdown",
   "metadata": {},
   "source": [
    "## 13. Model with class weighting"
   ]
  },
  {
   "cell_type": "markdown",
   "metadata": {},
   "source": [
    "Scikit-learn 'balanced' = n_samples / (n_classes * np.bincount(y))"
   ]
  },
  {
   "cell_type": "code",
   "execution_count": 46,
   "metadata": {},
   "outputs": [
    {
     "data": {
      "text/plain": [
       "0    0.890275\n",
       "1    0.109725\n",
       "dtype: float64"
      ]
     },
     "execution_count": 46,
     "metadata": {},
     "output_type": "execute_result"
    }
   ],
   "source": [
    "pd.Series(y).value_counts(normalize=True)"
   ]
  },
  {
   "cell_type": "code",
   "execution_count": 47,
   "metadata": {},
   "outputs": [
    {
     "data": {
      "text/plain": [
       "array([0.56169822, 4.55198079])"
      ]
     },
     "execution_count": 47,
     "metadata": {},
     "output_type": "execute_result"
    }
   ],
   "source": [
    "class_weights = compute_class_weight('balanced', np.unique(y_train), y_train)\n",
    "class_weights"
   ]
  },
  {
   "cell_type": "code",
   "execution_count": 48,
   "metadata": {},
   "outputs": [
    {
     "data": {
      "text/plain": [
       "{0: 0.5616982194175333, 1: 4.551980792316927}"
      ]
     },
     "execution_count": 48,
     "metadata": {},
     "output_type": "execute_result"
    }
   ],
   "source": [
    "class_weights = {i: class_weights[i] for i in [0,1]}\n",
    "class_weights"
   ]
  },
  {
   "cell_type": "code",
   "execution_count": 49,
   "metadata": {},
   "outputs": [
    {
     "name": "stdout",
     "output_type": "stream",
     "text": [
      "Train on 37918 samples, validate on 9480 samples\n",
      "Epoch 1/5\n",
      "37918/37918 [==============================] - 8s 200us/step - loss: 0.6595 - acc: 0.6095 - val_loss: 0.6468 - val_acc: 0.6679\n",
      "Epoch 2/5\n",
      "37918/37918 [==============================] - 7s 182us/step - loss: 0.6236 - acc: 0.6283 - val_loss: 0.6252 - val_acc: 0.6806\n",
      "Epoch 3/5\n",
      "37918/37918 [==============================] - 7s 190us/step - loss: 0.5885 - acc: 0.7080 - val_loss: 0.5548 - val_acc: 0.7341\n",
      "Epoch 4/5\n",
      "37918/37918 [==============================] - 7s 173us/step - loss: 0.5799 - acc: 0.7184 - val_loss: 0.5886 - val_acc: 0.7238\n",
      "Epoch 5/5\n",
      "37918/37918 [==============================] - 7s 196us/step - loss: 0.5755 - acc: 0.7169 - val_loss: 0.5670 - val_acc: 0.7138\n"
     ]
    },
    {
     "data": {
      "text/plain": [
       "<keras.callbacks.History at 0x7f324efb7748>"
      ]
     },
     "execution_count": 49,
     "metadata": {},
     "output_type": "execute_result"
    }
   ],
   "source": [
    "model = build_model()\n",
    "\n",
    "model.fit(x=X_train,\n",
    "          y=y_train,\n",
    "          batch_size=256,\n",
    "          epochs=5,\n",
    "          validation_data=(X_val, y_val),\n",
    "          class_weight=class_weights)"
   ]
  },
  {
   "cell_type": "code",
   "execution_count": 50,
   "metadata": {},
   "outputs": [
    {
     "name": "stdout",
     "output_type": "stream",
     "text": [
      "Test accuracy = 0.708\n",
      "Test AUC = 0.773\n",
      "\n",
      "              precision    recall  f1-score   support\n",
      "\n",
      "           0       0.95      0.71      0.81     10541\n",
      "           1       0.23      0.68      0.34      1309\n",
      "\n",
      "   micro avg       0.71      0.71      0.71     11850\n",
      "   macro avg       0.59      0.70      0.58     11850\n",
      "weighted avg       0.87      0.71      0.76     11850\n",
      "\n"
     ]
    }
   ],
   "source": [
    "y_pred_proba = model.predict(X_test, batch_size=256)\n",
    "y_pred = np.round(y_pred_proba)\n",
    "\n",
    "accuracy = accuracy_score(y_test, y_pred)\n",
    "auc = roc_auc_score(y_test, y_pred_proba)\n",
    "\n",
    "print('Test accuracy = %.3f' % accuracy)\n",
    "print('Test AUC = %.3f' % auc)\n",
    "print()\n",
    "print(classification_report(y_test, y_pred))"
   ]
  },
  {
   "cell_type": "code",
   "execution_count": 51,
   "metadata": {},
   "outputs": [
    {
     "data": {
      "text/plain": [
       "0.0    7903\n",
       "1.0    3947\n",
       "Name: 0, dtype: int64"
      ]
     },
     "execution_count": 51,
     "metadata": {},
     "output_type": "execute_result"
    }
   ],
   "source": [
    "pd.DataFrame(y_pred)[0].value_counts()"
   ]
  },
  {
   "cell_type": "markdown",
   "metadata": {},
   "source": [
    "## 14. Callbacks"
   ]
  },
  {
   "cell_type": "markdown",
   "metadata": {},
   "source": [
    "#### Value calculation (e.g. AUC) after each epoch"
   ]
  },
  {
   "cell_type": "code",
   "execution_count": 52,
   "metadata": {},
   "outputs": [],
   "source": [
    "class AUCCallback(Callback):\n",
    "    def __init__(self, val_data):\n",
    "        super(AUCCallback, self).__init__()\n",
    "        self.X_val, self.y_val = val_data\n",
    "        \n",
    "    def on_epoch_end(self, epoch, logs=None):\n",
    "        y_pred_proba = self.model.predict(self.X_val, batch_size=256)\n",
    "        auc = roc_auc_score(self.y_val, y_pred_proba)\n",
    "        logs['val_auc'] = auc\n",
    "        print('* Val AUC = %3f' % auc)"
   ]
  },
  {
   "cell_type": "code",
   "execution_count": 53,
   "metadata": {},
   "outputs": [
    {
     "name": "stdout",
     "output_type": "stream",
     "text": [
      "Train on 37918 samples, validate on 9480 samples\n",
      "Epoch 1/5\n",
      "37918/37918 [==============================] - 7s 195us/step - loss: 0.6603 - acc: 0.5926 - val_loss: 0.7051 - val_acc: 0.6341\n",
      "* Val AUC = 0.682516\n",
      "Epoch 2/5\n",
      "37918/37918 [==============================] - 7s 193us/step - loss: 0.6419 - acc: 0.6218 - val_loss: 0.6004 - val_acc: 0.6304\n",
      "* Val AUC = 0.731607\n",
      "Epoch 3/5\n",
      "37918/37918 [==============================] - 7s 190us/step - loss: 0.6049 - acc: 0.6595 - val_loss: 0.6434 - val_acc: 0.6994\n",
      "* Val AUC = 0.742208\n",
      "Epoch 4/5\n",
      "37918/37918 [==============================] - 8s 198us/step - loss: 0.5894 - acc: 0.7029 - val_loss: 0.5583 - val_acc: 0.7540\n",
      "* Val AUC = 0.764076\n",
      "Epoch 5/5\n",
      "37918/37918 [==============================] - 7s 195us/step - loss: 0.5815 - acc: 0.7127 - val_loss: 0.5814 - val_acc: 0.6942\n",
      "* Val AUC = 0.754997\n"
     ]
    },
    {
     "data": {
      "text/plain": [
       "<keras.callbacks.History at 0x7f324efdf630>"
      ]
     },
     "execution_count": 53,
     "metadata": {},
     "output_type": "execute_result"
    }
   ],
   "source": [
    "model = build_model()\n",
    "\n",
    "auc_calculator = AUCCallback(val_data=(X_val, y_val))\n",
    "\n",
    "model.fit(x=X_train,\n",
    "          y=y_train,\n",
    "          batch_size=256,\n",
    "          epochs=5,\n",
    "          validation_data=(X_val, y_val),\n",
    "          class_weight=class_weights,\n",
    "          callbacks=[auc_calculator])"
   ]
  },
  {
   "cell_type": "markdown",
   "metadata": {},
   "source": [
    "#### Model checkpointing"
   ]
  },
  {
   "cell_type": "code",
   "execution_count": 54,
   "metadata": {},
   "outputs": [],
   "source": [
    "checkpointer = ModelCheckpoint(filepath='model.hdf5', save_best_only=True)"
   ]
  },
  {
   "cell_type": "markdown",
   "metadata": {},
   "source": [
    "#### Early stopping"
   ]
  },
  {
   "cell_type": "code",
   "execution_count": 55,
   "metadata": {},
   "outputs": [],
   "source": [
    "early_stopper = EarlyStopping(monitor='val_loss', patience=3)"
   ]
  },
  {
   "cell_type": "code",
   "execution_count": 56,
   "metadata": {},
   "outputs": [
    {
     "name": "stdout",
     "output_type": "stream",
     "text": [
      "Train on 37918 samples, validate on 9480 samples\n",
      "Epoch 1/1000000\n",
      "37918/37918 [==============================] - 8s 214us/step - loss: 0.6474 - acc: 0.6135 - val_loss: 0.6571 - val_acc: 0.6084\n",
      "* Val AUC = 0.726266\n",
      "Epoch 2/1000000\n",
      "37918/37918 [==============================] - 7s 181us/step - loss: 0.5990 - acc: 0.6813 - val_loss: 0.6318 - val_acc: 0.7036\n",
      "* Val AUC = 0.738424\n",
      "Epoch 3/1000000\n",
      "37918/37918 [==============================] - 7s 186us/step - loss: 0.5875 - acc: 0.7013 - val_loss: 0.5863 - val_acc: 0.7103\n",
      "* Val AUC = 0.770618\n",
      "Epoch 4/1000000\n",
      "37918/37918 [==============================] - 7s 181us/step - loss: 0.5793 - acc: 0.7187 - val_loss: 0.5631 - val_acc: 0.7273\n",
      "* Val AUC = 0.760656\n",
      "Epoch 5/1000000\n",
      "37918/37918 [==============================] - 7s 187us/step - loss: 0.5706 - acc: 0.7245 - val_loss: 0.5920 - val_acc: 0.7136\n",
      "* Val AUC = 0.772701\n",
      "Epoch 6/1000000\n",
      "37918/37918 [==============================] - 7s 179us/step - loss: 0.5739 - acc: 0.7026 - val_loss: 0.5893 - val_acc: 0.7094\n",
      "* Val AUC = 0.766229\n",
      "Epoch 7/1000000\n",
      "37918/37918 [==============================] - 7s 189us/step - loss: 0.5779 - acc: 0.7005 - val_loss: 0.5346 - val_acc: 0.7467\n",
      "* Val AUC = 0.772331\n",
      "Epoch 8/1000000\n",
      "37918/37918 [==============================] - 7s 191us/step - loss: 0.5757 - acc: 0.7012 - val_loss: 0.5632 - val_acc: 0.7310\n",
      "* Val AUC = 0.768480\n",
      "Epoch 9/1000000\n",
      "37918/37918 [==============================] - 7s 180us/step - loss: 0.5771 - acc: 0.6985 - val_loss: 0.6093 - val_acc: 0.6713\n",
      "* Val AUC = 0.758113\n"
     ]
    },
    {
     "data": {
      "text/plain": [
       "<keras.callbacks.History at 0x7f321480e400>"
      ]
     },
     "execution_count": 56,
     "metadata": {},
     "output_type": "execute_result"
    }
   ],
   "source": [
    "model = build_model()\n",
    "\n",
    "ac = AUCCallback(val_data=(X_val, y_val))\n",
    "mc = ModelCheckpoint(filepath='ts_model.hdf5', monitor='val_auc', mode='max', save_best_only=True)\n",
    "es = EarlyStopping(monitor='val_auc', mode='max', patience=4)\n",
    "\n",
    "model.fit(x=X_train,\n",
    "          y=y_train,\n",
    "          batch_size=256,\n",
    "          epochs=1000000,\n",
    "          validation_data=(X_val, y_val),\n",
    "          class_weight=class_weights,\n",
    "          callbacks=[ac, mc, es])"
   ]
  },
  {
   "cell_type": "code",
   "execution_count": null,
   "metadata": {},
   "outputs": [],
   "source": []
  }
 ],
 "metadata": {
  "kernelspec": {
   "display_name": "Python 3",
   "language": "python",
   "name": "python3"
  },
  "language_info": {
   "codemirror_mode": {
    "name": "ipython",
    "version": 3
   },
   "file_extension": ".py",
   "mimetype": "text/x-python",
   "name": "python",
   "nbconvert_exporter": "python",
   "pygments_lexer": "ipython3",
   "version": "3.6.6"
  }
 },
 "nbformat": 4,
 "nbformat_minor": 2
}
